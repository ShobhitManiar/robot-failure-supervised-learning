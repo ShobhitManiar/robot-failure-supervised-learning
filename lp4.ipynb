{
 "cells": [
  {
   "cell_type": "code",
   "execution_count": null,
   "id": "4d88c5b3-829e-4d40-8752-5a23ea44a5ce",
   "metadata": {},
   "outputs": [],
   "source": [
    "import pandas as pd\n",
    "import numpy as np\n",
    "import matplotlib.pyplot as plt\n",
    "from sklearn.preprocessing import StandardScaler\n",
    "import tensorflow as tf\n",
    "from time import time"
   ]
  },
  {
   "cell_type": "code",
   "execution_count": null,
   "id": "71f3b89d-6663-4820-8c9e-5cc1fe5b386e",
   "metadata": {},
   "outputs": [],
   "source": [
    "pd.set_option('mode.chained_assignment', None)"
   ]
  },
  {
   "cell_type": "code",
   "execution_count": null,
   "id": "4ad9a0de-6a38-4590-9465-6457b1eb9b1b",
   "metadata": {},
   "outputs": [],
   "source": [
    "Ip4=pd.read_csv(\"D:\\SHOBHIT_MANIAR_387777\\lp44.csv\") \n",
    "dfnew4=Ip4[[\"Unnamed: 1\",\"Unnamed: 2\",\"Unnamed: 3\",\"Unnamed: 4\",\"Unnamed: 5\",\"Unnamed: 6\"]].copy()"
   ]
  },
  {
   "cell_type": "code",
   "execution_count": null,
   "id": "cdcdd457-c332-4c30-bd4d-c2ad49ae857b",
   "metadata": {},
   "outputs": [],
   "source": [
    "df4=dfnew4.dropna()"
   ]
  },
  {
   "cell_type": "code",
   "execution_count": null,
   "id": "08a32b13-227c-47dc-85b0-a0f4c84ab5e6",
   "metadata": {},
   "outputs": [],
   "source": [
    "df4[\"F_vec\"]=np.sqrt((df4[\"Unnamed: 1\"]**2+df4[\"Unnamed: 2\"]**2+df4[\"Unnamed: 3\"]**2))\n",
    "df4[\"T_vec\"]=np.sqrt((df4[\"Unnamed: 4\"]**2+df4[\"Unnamed: 5\"]**2+df4[\"Unnamed: 6\"]**2))\n",
    "df44=Ip4[\"dummy\"]\n",
    "\n",
    "df4=df4.reset_index(drop=True)\n",
    "df4=df4.groupby(np.arange(len(df4))//15).mean()"
   ]
  },
  {
   "cell_type": "code",
   "execution_count": null,
   "id": "596782dc-02f9-4043-9d3a-9c545a3794b7",
   "metadata": {},
   "outputs": [],
   "source": [
    "df41=df44.dropna().reset_index(drop=True)\n",
    "df4[\"Classes\"]=df41\n",
    "df4main=df4[[\"Classes\",\"F_vec\",\"T_vec\"]].copy()\n"
   ]
  },
  {
   "cell_type": "code",
   "execution_count": null,
   "id": "5d24b169-bd72-4a32-b3ff-2d138ae2b88e",
   "metadata": {},
   "outputs": [],
   "source": [
    "print(df4main['Classes'].value_counts())\n",
    "\n",
    "df4main.hist(column='F_vec', bins=20, by='Classes')\n"
   ]
  },
  {
   "cell_type": "code",
   "execution_count": null,
   "id": "e5d4429d-c713-4536-a1c4-cc0b309f77c1",
   "metadata": {},
   "outputs": [],
   "source": [
    "import seaborn as sns\n",
    "grid=sns.lmplot( x=\"F_vec\", y=\"T_vec\", data=df4main, fit_reg=False, hue=\"Classes\", legend=False, markers=[\"o\", \"x\", \"1\"])\n",
    "plt.legend(loc='lower right')\n",
    "grid.set(xscale=\"log\", yscale=\"log\")\n",
    "plt.show()"
   ]
  },
  {
   "cell_type": "code",
   "execution_count": null,
   "id": "f019661a-e9f1-4808-a318-d6b7247c0f22",
   "metadata": {},
   "outputs": [],
   "source": [
    "df4_pca=df4main.iloc[:,1:3]\n",
    "scaler = StandardScaler()\n",
    "df4_pca=pd.DataFrame(scaler.fit_transform(df4_pca))\n",
    "from sklearn.decomposition import PCA\n",
    "pca = PCA(n_components=2)\n",
    "pca_fit = pca.fit_transform(df4_pca)\n",
    "pca_df = pd.DataFrame(data=pca_fit, columns=['PC1', 'PC2'])\n",
    "PC_values = np.arange(pca.n_components_) + 1\n",
    "plt.plot(PC_values, pca.explained_variance_ratio_, 'o-', linewidth=2, color='blue')\n",
    "plt.title('Scree Plot')\n",
    "plt.xlabel('Principal Component')\n",
    "plt.ylabel('Variance Explained')\n",
    "plt.show()\n",
    "print(pca.explained_variance_ratio_)"
   ]
  },
  {
   "cell_type": "code",
   "execution_count": null,
   "id": "63a5dc8f-51bc-4b38-a1f5-793c4bd8edf1",
   "metadata": {},
   "outputs": [],
   "source": [
    "data_fin = pd.DataFrame( columns = [ 'pca1','class'])\n",
    "data_fin['pca1'] = pca_df['PC1']\n",
    "data_fin['class'] = df4[\"Classes\"]\n"
   ]
  },
  {
   "cell_type": "code",
   "execution_count": null,
   "id": "88502045-4328-4b9a-8c8a-3f051204c98d",
   "metadata": {},
   "outputs": [],
   "source": [
    "from sklearn import preprocessing\n",
    "e=preprocessing.LabelEncoder()\n",
    "Y=e.fit_transform(df4main.Classes)\n",
    "X=df4main.iloc[:,1:3].values\n",
    "\n",
    "from sklearn.model_selection import train_test_split\n",
    "X_train,X_test,Y_train,Y_test = train_test_split(X,Y,test_size=0.2,random_state=0)\n",
    "\n",
    "from sklearn.preprocessing import StandardScaler\n",
    "sc = StandardScaler()\n",
    "X_train = sc.fit_transform(X_train)\n",
    "X_test = sc.transform(X_test)"
   ]
  },
  {
   "cell_type": "code",
   "execution_count": null,
   "id": "269071f1-a49b-4c31-990c-e0884cdc1750",
   "metadata": {},
   "outputs": [],
   "source": [
    "ann = tf.keras.models.Sequential()"
   ]
  },
  {
   "cell_type": "code",
   "execution_count": null,
   "id": "02697287-ca0d-4d0f-9d24-cdfeb81dc1c6",
   "metadata": {},
   "outputs": [],
   "source": [
    "keras = tf.keras\n",
    "ann.add(tf.keras.layers.Dense(units=130,activation=keras.layers.LeakyReLU(alpha=0.01)))"
   ]
  },
  {
   "cell_type": "code",
   "execution_count": null,
   "id": "935ec5d6-06a4-4c86-ba53-206cfe20cc8d",
   "metadata": {},
   "outputs": [],
   "source": [
    "ann.add(tf.keras.layers.Dense(units=130,activation=\"relu\"))"
   ]
  },
  {
   "cell_type": "code",
   "execution_count": null,
   "id": "b383fca9-09a5-4426-b4c7-17a0f06c85d3",
   "metadata": {},
   "outputs": [],
   "source": [
    "ann.add(tf.keras.layers.Dense(units=3,activation=\"softmax\"))"
   ]
  },
  {
   "cell_type": "code",
   "execution_count": null,
   "id": "c54b01a5-9652-4b13-9204-8cd7d1315af2",
   "metadata": {},
   "outputs": [],
   "source": [
    "ann.compile(optimizer=\"adam\",loss=\"sparse_categorical_crossentropy\",metrics=['accuracy'])             "
   ]
  },
  {
   "cell_type": "code",
   "execution_count": null,
   "id": "32c72a97-9a0b-48c3-b747-ce4f820e33f1",
   "metadata": {},
   "outputs": [],
   "source": [
    "start = time()\n",
    "ann.fit(X_train,Y_train,batch_size=13,epochs = 100)\n",
    "print(time()-start)"
   ]
  },
  {
   "cell_type": "code",
   "execution_count": null,
   "id": "46a3ce6f-f003-4c03-9627-42e2746c2d40",
   "metadata": {},
   "outputs": [],
   "source": [
    "\n",
    "y_pred=ann.predict(X_test)\n",
    "a=np.argmax(y_pred,axis=1)"
   ]
  },
  {
   "cell_type": "code",
   "execution_count": null,
   "id": "e65b838e-136d-477d-a7bf-49d1edeabc03",
   "metadata": {},
   "outputs": [],
   "source": [
    "from sklearn.metrics import accuracy_score\n",
    "accuracy=accuracy_score(Y_test,a)\n",
    "print(accuracy)"
   ]
  }
 ],
 "metadata": {
  "kernelspec": {
   "display_name": "Python 3 (ipykernel)",
   "language": "python",
   "name": "python3"
  },
  "language_info": {
   "codemirror_mode": {
    "name": "ipython",
    "version": 3
   },
   "file_extension": ".py",
   "mimetype": "text/x-python",
   "name": "python",
   "nbconvert_exporter": "python",
   "pygments_lexer": "ipython3",
   "version": "3.9.13"
  },
  "vscode": {
   "interpreter": {
    "hash": "7288a26f5c73106c686d8104c16ebcb796629555bb709ec9de3347ee47264a84"
   }
  }
 },
 "nbformat": 4,
 "nbformat_minor": 5
}
