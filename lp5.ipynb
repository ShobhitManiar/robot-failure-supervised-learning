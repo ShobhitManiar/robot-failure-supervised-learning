{
 "cells": [
  {
   "cell_type": "code",
   "execution_count": null,
   "id": "90bd7203-3679-43eb-98a8-c89c961dedca",
   "metadata": {},
   "outputs": [],
   "source": [
    "import pandas as pd\n",
    "import numpy as np\n",
    "import matplotlib.pyplot as plt\n",
    "from sklearn.preprocessing import StandardScaler\n",
    "import tensorflow as tf\n",
    "from time import time"
   ]
  },
  {
   "cell_type": "code",
   "execution_count": null,
   "id": "3f49de8c-64cc-41af-9d1f-a4dc42688d01",
   "metadata": {},
   "outputs": [],
   "source": [
    "pd.set_option('mode.chained_assignment', None)"
   ]
  },
  {
   "cell_type": "code",
   "execution_count": null,
   "id": "faffc87b-ed92-4b76-8b5e-6389f70fc6e2",
   "metadata": {},
   "outputs": [],
   "source": [
    "Ip5=pd.read_csv(\"D:\\SHOBHIT_MANIAR_387777\\lp55.csv\") \n",
    "dfnew5=Ip5[[\"Unnamed: 1\",\"Unnamed: 2\",\"Unnamed: 3\",\"Unnamed: 4\",\"Unnamed: 5\",\"Unnamed: 6\"]].copy()"
   ]
  },
  {
   "cell_type": "code",
   "execution_count": null,
   "id": "1bef7c72-6218-451d-8b82-769caec0b82b",
   "metadata": {},
   "outputs": [],
   "source": [
    "df5=dfnew5.dropna()"
   ]
  },
  {
   "cell_type": "code",
   "execution_count": null,
   "id": "c3b376b1-330e-41a9-bc54-39197bc68823",
   "metadata": {},
   "outputs": [],
   "source": [
    "df5[\"F_vec\"]=np.sqrt((df5[\"Unnamed: 1\"]**2+df5[\"Unnamed: 2\"]**2+df5[\"Unnamed: 3\"]**2))\n",
    "df5[\"T_vec\"]=np.sqrt((df5[\"Unnamed: 4\"]**2+df5[\"Unnamed: 5\"]**2+df5[\"Unnamed: 6\"]**2))\n",
    "df55=Ip5[\"dummy\"]\n",
    "\n",
    "df5=df5.reset_index(drop=True)\n",
    "df5=df5.groupby(np.arange(len(df5))//15).mean()"
   ]
  },
  {
   "cell_type": "code",
   "execution_count": null,
   "id": "09b4af4a-3765-4e2f-b830-b7e45c6a18ab",
   "metadata": {},
   "outputs": [],
   "source": [
    "df51=df55.dropna().reset_index(drop=True)\n",
    "df5[\"Classes\"]=df51\n",
    "df5main=df5[[\"Classes\",\"F_vec\",\"T_vec\"]].copy()\n"
   ]
  },
  {
   "cell_type": "code",
   "execution_count": null,
   "id": "29e74d4b-f478-4067-bca9-f33aa7fde0f2",
   "metadata": {},
   "outputs": [],
   "source": [
    "print(df5main['Classes'].value_counts())\n",
    "df5main.hist(column='F_vec', bins=20, by='Classes')\n"
   ]
  },
  {
   "cell_type": "code",
   "execution_count": null,
   "id": "db2b36ea-237b-4e17-a513-38c6c6ee237b",
   "metadata": {},
   "outputs": [],
   "source": [
    "import seaborn as sns\n",
    "grid=sns.lmplot( x=\"F_vec\", y=\"T_vec\", data=df5main, fit_reg=False, hue=\"Classes\", legend=False, markers=[\"o\", \"x\", \"1\",\"2\",\"3\"])\n",
    "plt.legend(loc='lower right')\n",
    "grid.set(xscale=\"log\", yscale=\"log\")\n",
    "plt.show()"
   ]
  },
  {
   "cell_type": "code",
   "execution_count": null,
   "id": "047eeef9-1359-458c-9673-359d9c39e199",
   "metadata": {},
   "outputs": [],
   "source": [
    "df5_pca=df5main.iloc[:,1:3]\n",
    "scaler = StandardScaler()\n",
    "df5_pca=pd.DataFrame(scaler.fit_transform(df5_pca))\n",
    "from sklearn.decomposition import PCA\n",
    "pca = PCA(n_components=2)\n",
    "pca_fit = pca.fit_transform(df5_pca)\n",
    "pca_df = pd.DataFrame(data=pca_fit, columns=['PC1', 'PC2'])\n",
    "PC_values = np.arange(pca.n_components_) + 1\n",
    "plt.plot(PC_values, pca.explained_variance_ratio_, 'o-', linewidth=2, color='blue')\n",
    "plt.title('Scree Plot')\n",
    "plt.xlabel('Principal Component')\n",
    "plt.ylabel('Variance Explained')\n",
    "plt.show()\n",
    "print(pca.explained_variance_ratio_)"
   ]
  },
  {
   "cell_type": "code",
   "execution_count": null,
   "id": "e444e1a0-1ef6-4d91-ab32-03fbffef6ad4",
   "metadata": {},
   "outputs": [],
   "source": [
    "data_fin = pd.DataFrame( columns = [ 'pca1','class'])\n",
    "data_fin['pca1'] = pca_df['PC1']\n",
    "data_fin['class'] = df5[\"Classes\"]"
   ]
  },
  {
   "cell_type": "code",
   "execution_count": null,
   "id": "1fa4662f-a0df-4dd0-b3b8-bfb7a077146b",
   "metadata": {},
   "outputs": [],
   "source": [
    "from sklearn import preprocessing\n",
    "e=preprocessing.LabelEncoder()\n",
    "Y=e.fit_transform(df5.Classes)\n",
    "X=df5.iloc[:,0:6].values\n",
    "\n",
    "from sklearn.model_selection import train_test_split\n",
    "X_train,X_test,Y_train,Y_test = train_test_split(X,Y,test_size=0.2,random_state=0)\n",
    "\n",
    "from sklearn.preprocessing import StandardScaler\n",
    "sc = StandardScaler()\n",
    "X_train = sc.fit_transform(X_train)\n",
    "X_test = sc.transform(X_test)"
   ]
  },
  {
   "cell_type": "code",
   "execution_count": null,
   "id": "e8146231-d8a1-4599-aa6c-bbdfa98886e5",
   "metadata": {},
   "outputs": [],
   "source": [
    "ann = tf.keras.models.Sequential()"
   ]
  },
  {
   "cell_type": "code",
   "execution_count": null,
   "id": "c3532dd0-d960-4228-8aee-e9734e987fa4",
   "metadata": {},
   "outputs": [],
   "source": [
    "ann.add(tf.keras.layers.Dense(units=250,activation=\"relu\"))"
   ]
  },
  {
   "cell_type": "code",
   "execution_count": null,
   "id": "9551bf14-ef56-4421-bf4d-3b29ad6f9a4f",
   "metadata": {},
   "outputs": [],
   "source": [
    "ann.add(tf.keras.layers.Dense(units=250,activation=\"relu\"))"
   ]
  },
  {
   "cell_type": "code",
   "execution_count": null,
   "id": "716f3a36-cb8f-43d7-99a4-59052d52d2cb",
   "metadata": {},
   "outputs": [],
   "source": [
    "ann.add(tf.keras.layers.Dense(units=5,activation=\"softmax\"))"
   ]
  },
  {
   "cell_type": "code",
   "execution_count": null,
   "id": "4d49cdde-6af8-460d-af11-a9c4570d7d63",
   "metadata": {},
   "outputs": [],
   "source": [
    "ann.compile(optimizer=\"adam\",loss=\"sparse_categorical_crossentropy\",metrics=['accuracy']) "
   ]
  },
  {
   "cell_type": "code",
   "execution_count": null,
   "id": "99354ed3-429c-4c3e-b1df-6ace97766374",
   "metadata": {},
   "outputs": [],
   "source": [
    "start = time()\n",
    "ann.fit(X_train,Y_train,batch_size=32,epochs = 100)\n",
    "print(time()-start)"
   ]
  },
  {
   "cell_type": "code",
   "execution_count": null,
   "id": "c7fde3aa-ee1a-4c48-a70c-6e210c75f2b2",
   "metadata": {},
   "outputs": [],
   "source": [
    "y_pred=ann.predict(X_test)\n",
    "a=np.argmax(y_pred,axis=1)"
   ]
  },
  {
   "cell_type": "code",
   "execution_count": null,
   "id": "7c4baa78-90cc-47b4-8da0-a712f8162daa",
   "metadata": {},
   "outputs": [],
   "source": [
    "from sklearn.metrics import accuracy_score\n",
    "accuracy=accuracy_score(Y_test,a)\n",
    "print(accuracy)"
   ]
  }
 ],
 "metadata": {
  "kernelspec": {
   "display_name": "Python 3 (ipykernel)",
   "language": "python",
   "name": "python3"
  },
  "language_info": {
   "codemirror_mode": {
    "name": "ipython",
    "version": 3
   },
   "file_extension": ".py",
   "mimetype": "text/x-python",
   "name": "python",
   "nbconvert_exporter": "python",
   "pygments_lexer": "ipython3",
   "version": "3.9.13"
  },
  "vscode": {
   "interpreter": {
    "hash": "7288a26f5c73106c686d8104c16ebcb796629555bb709ec9de3347ee47264a84"
   }
  }
 },
 "nbformat": 4,
 "nbformat_minor": 5
}
